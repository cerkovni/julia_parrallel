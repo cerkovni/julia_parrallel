{
 "cells": [
  {
   "cell_type": "code",
   "execution_count": 1,
   "metadata": {},
   "outputs": [
    {
     "data": {
      "text/plain": [
       "4-element Array{Int64,1}:\n",
       " 2\n",
       " 3\n",
       " 4\n",
       " 5"
      ]
     },
     "execution_count": 1,
     "metadata": {},
     "output_type": "execute_result"
    }
   ],
   "source": [
    "using Distributed, BenchmarkTools\n",
    "addprocs(4)"
   ]
  },
  {
   "cell_type": "code",
   "execution_count": 2,
   "metadata": {},
   "outputs": [
    {
     "data": {
      "text/plain": [
       "4"
      ]
     },
     "execution_count": 2,
     "metadata": {},
     "output_type": "execute_result"
    }
   ],
   "source": [
    "Threads.nthreads()"
   ]
  },
  {
   "cell_type": "markdown",
   "metadata": {},
   "source": [
    "### Ways of Sharing Data in Julia \n",
    "* distributed array dArray ( each process has its own chunk .. concrete array only)\n",
    "* shared array (each process has access to all data in a concrete array)\n",
    "* remote channel( channels where processes can read and write arrays of composite types or custom mutable structs\n",
    "* remote object ( object on distributed processes)\n",
    "\n",
    "### Ways of Doing Parallel Computations in Julia \n",
    "* @distributed for loop + shared array ( geared towards fast small calculations)\n",
    "* pmap slower longer computatation\n",
    "* @async remote call ( pmap is wrapper around remote task)\n",
    "* multithreading Threads.@threads \n",
    "* @threadcall calling c code on a separate uv loop\n",
    "\n",
    "https://codingclubuc3m.github.io/2018-06-06-Parallel-computing-Julia.html\n",
    "https://docs.julialang.org/en/v1/manual/parallel-computing/index.html\n"
   ]
  },
  {
   "cell_type": "code",
   "execution_count": null,
   "metadata": {},
   "outputs": [],
   "source": []
  },
  {
   "cell_type": "code",
   "execution_count": 3,
   "metadata": {},
   "outputs": [
    {
     "data": {
      "text/plain": [
       "1000×100 Array{Float64,2}:\n",
       " 0.428827   0.450482   0.426665   …  0.432342   0.987073   0.6307  \n",
       " 0.718034   0.525038   0.272792      0.448928   0.95974    0.648596\n",
       " 0.0542647  0.285266   0.111917      0.301554   0.987424   0.646695\n",
       " 0.20483    0.968826   0.0742951     0.77281    0.0647721  0.264271\n",
       " 0.348856   0.448854   0.124551      0.250567   0.981254   0.153445\n",
       " 0.274881   0.307092   0.927949   …  0.926867   0.885073   0.397878\n",
       " 0.962869   0.771716   0.539125      0.897364   0.72481    0.793081\n",
       " 0.871436   0.951466   0.942482      0.252878   0.326462   0.913954\n",
       " 0.672501   0.504633   0.490393      0.188507   0.787239   0.231216\n",
       " 0.657875   0.823363   0.698378      0.306274   0.544435   0.370133\n",
       " 0.632989   0.698069   0.744494   …  0.104424   0.802693   0.119264\n",
       " 0.83462    0.679551   0.783996      0.139717   0.62985    0.441126\n",
       " 0.833116   0.803096   0.276715      0.860222   0.094476   0.837948\n",
       " ⋮                                ⋱                                \n",
       " 0.190977   0.0275971  0.450515      0.453221   0.130544   0.591403\n",
       " 0.531162   0.964355   0.033342      0.358941   0.904815   0.709205\n",
       " 0.648962   0.311905   0.39372    …  0.288278   0.945453   0.452312\n",
       " 0.183045   0.367331   0.599956      0.674888   0.538686   0.372479\n",
       " 0.830728   0.205999   0.965776      0.824214   0.737852   0.586316\n",
       " 0.192704   0.327887   0.310057      0.758886   0.509559   0.777741\n",
       " 0.0989872  0.633099   0.215864      0.0304442  0.707569   0.199958\n",
       " 0.259613   0.0938392  0.98524    …  0.719      0.671578   0.563308\n",
       " 0.119718   0.33194    0.968734      0.896081   0.470899   0.233497\n",
       " 0.614215   0.721063   0.78091       0.955875   0.491038   0.122118\n",
       " 0.481092   0.468666   0.733159      0.727338   0.547927   0.903079\n",
       " 0.329095   0.95099    0.458823      0.687685   0.607021   0.433754"
      ]
     },
     "execution_count": 3,
     "metadata": {},
     "output_type": "execute_result"
    }
   ],
   "source": [
    "my_array = rand(1000, 100)"
   ]
  },
  {
   "cell_type": "code",
   "execution_count": 3,
   "metadata": {},
   "outputs": [],
   "source": [
    "using SharedArrays\n",
    "# my_shared_array = SharedArray{Float64}(my_array)\n",
    "# my_shared_array = SharedArray{Float64}( rand(9, 4))"
   ]
  },
  {
   "cell_type": "code",
   "execution_count": 5,
   "metadata": {},
   "outputs": [
    {
     "data": {
      "text/plain": [
       "4"
      ]
     },
     "execution_count": 5,
     "metadata": {},
     "output_type": "execute_result"
    }
   ],
   "source": [
    "size(my_shared_array)[2]"
   ]
  },
  {
   "cell_type": "code",
   "execution_count": 6,
   "metadata": {},
   "outputs": [],
   "source": [
    "# using Distributed, BenchmarkTools"
   ]
  },
  {
   "cell_type": "code",
   "execution_count": 7,
   "metadata": {},
   "outputs": [
    {
     "name": "stdout",
     "output_type": "stream",
     "text": [
      "  81.404 ms (888 allocations: 66.39 KiB)\n"
     ]
    }
   ],
   "source": [
    "# @btime\n",
    "function f()\n",
    "    my_shared_array = SharedArray{Float64}( rand(1000, 4))\n",
    "    for i = 1:size(my_shared_array)[1]\n",
    "        for j in 2:size(my_shared_array)[2]\n",
    "            my_shared_array[i,j] = my_shared_array[i,j] * my_shared_array[i,(j -1)]\n",
    "        end\n",
    "    end\n",
    "    @everywhere GC.gc()\n",
    "end \n",
    "@btime f()"
   ]
  },
  {
   "cell_type": "code",
   "execution_count": 8,
   "metadata": {},
   "outputs": [
    {
     "name": "stdout",
     "output_type": "stream",
     "text": [
      "  78.563 ms (408 allocations: 80.31 KiB)\n"
     ]
    }
   ],
   "source": [
    "function f()\n",
    "    my_shared_array = Array{Float64}( rand(1000, 4))\n",
    "    for i = 1:size(my_shared_array)[1]\n",
    "        for j in 2:size(my_shared_array)[2]\n",
    "            my_shared_array[i,j] = my_shared_array[i,j] * my_shared_array[i,(j -1)]\n",
    "        end\n",
    "    end\n",
    "    @everywhere GC.gc()\n",
    "end \n",
    "@btime f()"
   ]
  },
  {
   "cell_type": "code",
   "execution_count": 12,
   "metadata": {},
   "outputs": [
    {
     "name": "stdout",
     "output_type": "stream",
     "text": [
      "  7.411 μs (4 allocations: 62.66 KiB)\n",
      "  0.000020 seconds (9 allocations: 62.891 KiB)\n"
     ]
    }
   ],
   "source": [
    "function f()\n",
    "    my_shared_array = Array{Float64}( rand(1000, 4))\n",
    "    for i = 1:size(my_shared_array)[1]\n",
    "        for j in 2:size(my_shared_array)[2]\n",
    "            my_shared_array[i,j] = my_shared_array[i,j] * my_shared_array[i,(j -1)]\n",
    "        end\n",
    "    end\n",
    "#     @everywhere GC.gc()\n",
    "end \n",
    "@btime f()\n",
    "@time f()"
   ]
  },
  {
   "cell_type": "code",
   "execution_count": 10,
   "metadata": {},
   "outputs": [
    {
     "name": "stdout",
     "output_type": "stream",
     "text": [
      "  0.023385 seconds (42.23 k allocations: 2.169 MiB)\n"
     ]
    },
    {
     "data": {
      "text/plain": [
       "Task (runnable) @0x0000000116a2c6d0"
      ]
     },
     "execution_count": 10,
     "metadata": {},
     "output_type": "execute_result"
    }
   ],
   "source": [
    "function f()\n",
    "    my_shared_array = SharedArray{Float64}( rand(1000, 4))\n",
    "    @distributed for i = 1:size(my_shared_array)[1]\n",
    "        for j in 2:size(my_shared_array)[2]\n",
    "            my_shared_array[i,j] = my_shared_array[i,j] * my_shared_array[i,(j -1)]\n",
    "        end\n",
    "    end\n",
    "#     @everywhere GC.gc()\n",
    "end \n",
    "@time f()"
   ]
  },
  {
   "cell_type": "code",
   "execution_count": 6,
   "metadata": {},
   "outputs": [
    {
     "name": "stdout",
     "output_type": "stream",
     "text": [
      "  111.488 ms (1501 allocations: 94.72 KiB)\n"
     ]
    }
   ],
   "source": [
    "# @btime\n",
    "function f()\n",
    "    my_shared_array = SharedArray{Float64}( rand(1000, 4))\n",
    "    @distributed for i = 1:size(my_shared_array)[1]\n",
    "        for j in 2:size(my_shared_array)[2]\n",
    "            my_shared_array[i,j] = my_shared_array[i,j] * my_shared_array[i,(j -1)]\n",
    "        end\n",
    "    end\n",
    "    @everywhere GC.gc()\n",
    "end \n",
    "@btime f()"
   ]
  },
  {
   "cell_type": "code",
   "execution_count": 16,
   "metadata": {},
   "outputs": [
    {
     "name": "stdout",
     "output_type": "stream",
     "text": [
      "  6.301 μs (5 allocations: 62.69 KiB)\n"
     ]
    }
   ],
   "source": [
    "function f()\n",
    "    my_shared_array = Array{Float64}( rand(1000, 4))\n",
    "    Threads.@threads for i = 1:size(my_shared_array)[1]\n",
    "        for j in 2:size(my_shared_array)[2]\n",
    "            my_shared_array[i,j] = my_shared_array[i,j] * my_shared_array[i,(j -1)]\n",
    "        end\n",
    "    end\n",
    "end\n",
    "@btime f()"
   ]
  },
  {
   "cell_type": "code",
   "execution_count": 15,
   "metadata": {},
   "outputs": [
    {
     "name": "stdout",
     "output_type": "stream",
     "text": [
      "  77.962 ms (887 allocations: 66.78 KiB)\n"
     ]
    }
   ],
   "source": [
    "function f()\n",
    "    my_shared_array = SharedArray{Float64}( rand(1000, 4))\n",
    "\n",
    "    Threads.@threads for i = 1:size(my_shared_array)[1]\n",
    "        for j in 2:size(my_shared_array)[2]\n",
    "            my_shared_array[i,j] = my_shared_array[i,j] * my_shared_array[i,(j -1)]\n",
    "        end\n",
    "    end\n",
    "    @everywhere GC.gc()\n",
    "end\n",
    "@btime f()\n",
    "# Note if not using a predefined array you will need to use the atomic tab to prevent race conditions"
   ]
  },
  {
   "cell_type": "code",
   "execution_count": null,
   "metadata": {},
   "outputs": [],
   "source": [
    "using SharedArrays\n",
    "\n",
    "a = SharedArray{Float64}(10)\n",
    "@distributed for i = 1:10\n",
    "    a[i] = i\n",
    "end\n",
    "\n",
    "a = randn(1000)\n",
    "@distributed (+) for i = 1:100000\n",
    "    f(a[rand(1:end)])\n",
    "end"
   ]
  },
  {
   "cell_type": "code",
   "execution_count": 12,
   "metadata": {},
   "outputs": [
    {
     "ename": "UndefVarError",
     "evalue": "UndefVarError: svdvals not defined",
     "output_type": "error",
     "traceback": [
      "UndefVarError: svdvals not defined",
      "",
      "Stacktrace:",
      " [1] top-level scope at In[12]:2"
     ]
    }
   ],
   "source": [
    "M = Matrix{Float64}[rand(1000,1000) for i = 1:10]\n",
    "pmap(svdvals, M)"
   ]
  },
  {
   "cell_type": "code",
   "execution_count": 13,
   "metadata": {},
   "outputs": [],
   "source": [
    "# addprocs(4) # add worker processes\n",
    "\n",
    "const jobs = RemoteChannel(()->Channel{Int}(32))\n",
    "\n",
    "const results = RemoteChannel(()->Channel{Tuple}(32))\n",
    "\n",
    "@everywhere function do_work(jobs, results) # define work function everywhere\n",
    "           while true\n",
    "               job_id = take!(jobs)\n",
    "               exec_time = rand()\n",
    "               sleep(exec_time) # simulates elapsed time doing actual work\n",
    "               put!(results, (job_id, exec_time, myid()))\n",
    "           end\n",
    "       end\n",
    "\n",
    "function make_jobs(n)\n",
    "   for i in 1:n\n",
    "       put!(jobs, i)\n",
    "   end\n",
    "end\n",
    "\n",
    "n = 12\n",
    "\n",
    "@async make_jobs(n); # feed the "
   ]
  },
  {
   "cell_type": "markdown",
   "metadata": {},
   "source": [
    "## False Sharing / Numa \n",
    "* https://medium.com/@genchilu/whats-false-sharing-and-how-to-solve-it-using-golang-as-example-ef978a305e10\n",
    "* https://discourse.julialang.org/t/two-questions-about-multithreading/14564/4'\n",
    "* https://en.wikipedia.org/wiki/Non-uniform_memory_access\n",
    "* https://github.com/JuliaBLAS/SIMDArrays.jl\n",
    "solution is to either pad by cache line size or preferably use thread local variables "
   ]
  },
  {
   "cell_type": "code",
   "execution_count": 14,
   "metadata": {},
   "outputs": [
    {
     "data": {
      "text/plain": [
       "f (generic function with 1 method)"
      ]
     },
     "execution_count": 14,
     "metadata": {},
     "output_type": "execute_result"
    }
   ],
   "source": [
    "function getrange(n)\n",
    "    tid = Threads.threadid()\n",
    "    nt = Threads.nthreads()\n",
    "    d , r = divrem(n, nt)\n",
    "    from = (tid - 1) * d + min(r, tid - 1) + 1\n",
    "    to = from + d - 1 + (tid ≤ r ? 1 : 0)\n",
    "    from:to\n",
    "end\n",
    "\n",
    "function good_f()\n",
    "    test_size = 10^8\n",
    "    a = zeros(Threads.nthreads())\n",
    "    b = rand(test_size)\n",
    "    calls = zeros(Threads.nthreads())\n",
    "    Threads.@threads for k = 1 : Threads.nthreads()\n",
    "        local_a = 0.0\n",
    "        local_c = 0.0\n",
    "        for i in getrange(test_size)\n",
    "            for j in 1:10\n",
    "                local_a += b[i]\n",
    "                local_c += 1\n",
    "            end\n",
    "        end\n",
    "        a[Threads.threadid()] = local_a\n",
    "        calls[Threads.threadid()] = local_c\n",
    "    end\n",
    "    a, calls\n",
    "end"
   ]
  },
  {
   "cell_type": "code",
   "execution_count": 15,
   "metadata": {},
   "outputs": [
    {
     "name": "stdout",
     "output_type": "stream",
     "text": [
      "  574.041 ms (6 allocations: 762.94 MiB)\n"
     ]
    },
    {
     "data": {
      "text/plain": [
       "([1.25008e8, 1.2501e8, 1.25007e8, 1.24984e8], [2.5e8, 2.5e8, 2.5e8, 2.5e8])"
      ]
     },
     "execution_count": 15,
     "metadata": {},
     "output_type": "execute_result"
    }
   ],
   "source": [
    " @btime good_f()"
   ]
  },
  {
   "cell_type": "code",
   "execution_count": 16,
   "metadata": {},
   "outputs": [
    {
     "data": {
      "text/plain": [
       "f (generic function with 1 method)"
      ]
     },
     "execution_count": 16,
     "metadata": {},
     "output_type": "execute_result"
    }
   ],
   "source": [
    "function bad_f()\n",
    "    test_size = 10^8\n",
    "    a = zeros(Threads.nthreads()*100)\n",
    "    b = rand(test_size)\n",
    "    calls = zeros(Threads.nthreads()*100)\n",
    "    Threads.@threads for i = 1 : test_size\n",
    "        for j in 1:10\n",
    "            a[Threads.threadid()*100] += b[i]\n",
    "            calls[Threads.threadid()*100] += 1\n",
    "        end\n",
    "    end\n",
    "    a, calls\n",
    "end"
   ]
  },
  {
   "cell_type": "code",
   "execution_count": 17,
   "metadata": {},
   "outputs": [
    {
     "name": "stdout",
     "output_type": "stream",
     "text": [
      "  900.799 ms (6 allocations: 762.95 MiB)\n"
     ]
    },
    {
     "data": {
      "text/plain": [
       "([0.0, 0.0, 0.0, 0.0, 0.0, 0.0, 0.0, 0.0, 0.0, 0.0  …  0.0, 0.0, 0.0, 0.0, 0.0, 0.0, 0.0, 0.0, 0.0, 1.25013e8], [0.0, 0.0, 0.0, 0.0, 0.0, 0.0, 0.0, 0.0, 0.0, 0.0  …  0.0, 0.0, 0.0, 0.0, 0.0, 0.0, 0.0, 0.0, 0.0, 2.5e8])"
      ]
     },
     "execution_count": 17,
     "metadata": {},
     "output_type": "execute_result"
    }
   ],
   "source": [
    "@btime bad_f()"
   ]
  },
  {
   "cell_type": "code",
   "execution_count": 18,
   "metadata": {},
   "outputs": [
    {
     "data": {
      "text/plain": [
       "4"
      ]
     },
     "execution_count": 18,
     "metadata": {},
     "output_type": "execute_result"
    }
   ],
   "source": [
    "Threads.nthreads()"
   ]
  },
  {
   "cell_type": "markdown",
   "metadata": {},
   "source": [
    "## simd \n",
    "https://github.com/eschnett/SIMD.jl\n",
    "http://kristofferc.github.io/post/intrinsics/\n",
    "https://discourse.julialang.org/t/how-to-improve-performance-of-simple-averaging-function/23303/4\n",
    "https://docs.julialang.org/en/v1.0.0/manual/performance-tips/#man-performance-annotations-1\n",
    "@inbounds/ @simd / @fastmath\n"
   ]
  },
  {
   "cell_type": "code",
   "execution_count": 19,
   "metadata": {},
   "outputs": [
    {
     "name": "stdout",
     "output_type": "stream",
     "text": [
      "  24.620 μs (701 allocations: 32.86 KiB)\n",
      "  703.949 ns (0 allocations: 0 bytes)\n"
     ]
    },
    {
     "data": {
      "text/plain": [
       "5.684341886080802e-14"
      ]
     },
     "execution_count": 19,
     "metadata": {},
     "output_type": "execute_result"
    }
   ],
   "source": [
    "using Statistics, BenchmarkTools\n",
    "\n",
    "input = 100*rand(1000)\n",
    "output = zeros(1000)\n",
    "output1 = zeros(1000)\n",
    "\n",
    "function my_function!( output::Array{Float64,1} , input::Array{Float64,1} , n::Int64 )\n",
    "\t\t@views @fastmath @inbounds for i=n:length(input)\n",
    "\t\t\toutput[i] = Statistics.mean(input[i-n+1:i])\n",
    "\t\tend\n",
    "\treturn output\n",
    "end\n",
    "\n",
    "function my_function1!( output::AbstractVector, input::AbstractVector , n::Integer )\n",
    "\n",
    "\t\t@boundscheck checkbounds(input, 1:n)\n",
    "\t\t@boundscheck checkbounds(output, n:length(input))\n",
    "\n",
    "\t\t# this puts in output[n] the value mean(input[1:n])\n",
    "\t\ts = zero(eltype(input))\n",
    "\t\t@inbounds @simd for i=1:n\n",
    "\t\t\ts += input[i]\n",
    "\t\tend\n",
    "\t\toutput[n] = s/n\n",
    "\t\t\n",
    "\t\t# this puts in output[i] the value mean(input[i-n+1:i])\n",
    "\t\t@fastmath @inbounds for i=n:length(input)-1\n",
    "\t\t\toutput[i+1] = output[i] - (input[i-n+1]-input[i+1])/n\n",
    "\t\tend\n",
    "\t\t\n",
    "\treturn output\n",
    "end\n",
    "\n",
    "\n",
    "@btime output = my_function!( $output , $input , 300 )\n",
    "@btime output1 = my_function1!( $output1 , $input , 300 )\n",
    "\n",
    "maximum(abs.(output-output1))"
   ]
  },
  {
   "cell_type": "code",
   "execution_count": null,
   "metadata": {},
   "outputs": [],
   "source": []
  }
 ],
 "metadata": {
  "@webio": {
   "lastCommId": null,
   "lastKernelId": null
  },
  "kernelspec": {
   "display_name": "Julia 1.1.1",
   "language": "julia",
   "name": "julia-1.1"
  },
  "language_info": {
   "file_extension": ".jl",
   "mimetype": "application/julia",
   "name": "julia",
   "version": "1.1.1"
  }
 },
 "nbformat": 4,
 "nbformat_minor": 2
}
